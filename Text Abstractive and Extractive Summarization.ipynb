{
 "cells": [
  {
   "cell_type": "markdown",
   "id": "c4c3e431-cfe5-4ad5-8836-7810292c2f6a",
   "metadata": {},
   "source": [
    "# Importing Libraries"
   ]
  },
  {
   "cell_type": "code",
   "execution_count": 1,
   "id": "6c5230f6-9d6f-48bf-94f1-a91e22bd019a",
   "metadata": {},
   "outputs": [
    {
     "name": "stderr",
     "output_type": "stream",
     "text": [
      "C:\\Users\\ahmed\\AppData\\Local\\Programs\\Python\\Python311\\Lib\\site-packages\\tqdm\\auto.py:21: TqdmWarning: IProgress not found. Please update jupyter and ipywidgets. See https://ipywidgets.readthedocs.io/en/stable/user_install.html\n",
      "  from .autonotebook import tqdm as notebook_tqdm\n"
     ]
    }
   ],
   "source": [
    "from transformers import T5ForConditionalGeneration, T5Tokenizer\n",
    "from torch.utils.data import DataLoader, Dataset\n",
    "import torch\n",
    "import numpy as np\n",
    "import pandas as pd"
   ]
  },
  {
   "cell_type": "markdown",
   "id": "c287777f-1fc1-476b-aac5-21c036efb33f",
   "metadata": {},
   "source": [
    "# Importing Dataset and Preprocessing it"
   ]
  },
  {
   "cell_type": "code",
   "execution_count": 2,
   "id": "66409f78-843f-469e-ba15-b5fff2e6cddd",
   "metadata": {},
   "outputs": [],
   "source": [
    "df=pd.read_csv('news_summary.csv',encoding='latin-1')\n",
    "df=df.head(10)"
   ]
  },
  {
   "cell_type": "code",
   "execution_count": 3,
   "id": "72b21686-565e-4c63-b485-b1898b501588",
   "metadata": {},
   "outputs": [
    {
     "name": "stdout",
     "output_type": "stream",
     "text": [
      "<class 'pandas.core.frame.DataFrame'>\n",
      "RangeIndex: 10 entries, 0 to 9\n",
      "Data columns (total 6 columns):\n",
      " #   Column     Non-Null Count  Dtype \n",
      "---  ------     --------------  ----- \n",
      " 0   author     10 non-null     object\n",
      " 1   date       10 non-null     object\n",
      " 2   headlines  10 non-null     object\n",
      " 3   read_more  10 non-null     object\n",
      " 4   text       10 non-null     object\n",
      " 5   ctext      10 non-null     object\n",
      "dtypes: object(6)\n",
      "memory usage: 612.0+ bytes\n"
     ]
    }
   ],
   "source": [
    "df.info()"
   ]
  },
  {
   "cell_type": "code",
   "execution_count": 4,
   "id": "e1a248e6-4732-4170-815d-c01342fb2068",
   "metadata": {},
   "outputs": [
    {
     "data": {
      "text/plain": [
       "author       0\n",
       "date         0\n",
       "headlines    0\n",
       "read_more    0\n",
       "text         0\n",
       "ctext        0\n",
       "dtype: int64"
      ]
     },
     "execution_count": 4,
     "metadata": {},
     "output_type": "execute_result"
    }
   ],
   "source": [
    "null_values = df.isnull().sum()\n",
    "null_values"
   ]
  },
  {
   "cell_type": "code",
   "execution_count": 5,
   "id": "f246f796-5a02-4282-bb48-8b6e4b259fc6",
   "metadata": {},
   "outputs": [],
   "source": [
    "columns_of_interest = ['text', 'headlines']\n",
    "df = df[columns_of_interest]"
   ]
  },
  {
   "cell_type": "code",
   "execution_count": 6,
   "id": "ffcbcd8c-f015-443a-be49-d9fdfc25c45f",
   "metadata": {},
   "outputs": [
    {
     "data": {
      "text/html": [
       "<div>\n",
       "<style scoped>\n",
       "    .dataframe tbody tr th:only-of-type {\n",
       "        vertical-align: middle;\n",
       "    }\n",
       "\n",
       "    .dataframe tbody tr th {\n",
       "        vertical-align: top;\n",
       "    }\n",
       "\n",
       "    .dataframe thead th {\n",
       "        text-align: right;\n",
       "    }\n",
       "</style>\n",
       "<table border=\"1\" class=\"dataframe\">\n",
       "  <thead>\n",
       "    <tr style=\"text-align: right;\">\n",
       "      <th></th>\n",
       "      <th>text</th>\n",
       "      <th>headlines</th>\n",
       "    </tr>\n",
       "  </thead>\n",
       "  <tbody>\n",
       "    <tr>\n",
       "      <th>0</th>\n",
       "      <td>The Administration of Union Territory Daman an...</td>\n",
       "      <td>Daman &amp; Diu revokes mandatory Rakshabandhan in...</td>\n",
       "    </tr>\n",
       "    <tr>\n",
       "      <th>1</th>\n",
       "      <td>Malaika Arora slammed an Instagram user who tr...</td>\n",
       "      <td>Malaika slams user who trolled her for 'divorc...</td>\n",
       "    </tr>\n",
       "    <tr>\n",
       "      <th>2</th>\n",
       "      <td>The Indira Gandhi Institute of Medical Science...</td>\n",
       "      <td>'Virgin' now corrected to 'Unmarried' in IGIMS...</td>\n",
       "    </tr>\n",
       "    <tr>\n",
       "      <th>3</th>\n",
       "      <td>Lashkar-e-Taiba's Kashmir commander Abu Dujana...</td>\n",
       "      <td>Aaj aapne pakad liya: LeT man Dujana before be...</td>\n",
       "    </tr>\n",
       "    <tr>\n",
       "      <th>4</th>\n",
       "      <td>Hotels in Maharashtra will train their staff t...</td>\n",
       "      <td>Hotel staff to get training to spot signs of s...</td>\n",
       "    </tr>\n",
       "  </tbody>\n",
       "</table>\n",
       "</div>"
      ],
      "text/plain": [
       "                                                text  \\\n",
       "0  The Administration of Union Territory Daman an...   \n",
       "1  Malaika Arora slammed an Instagram user who tr...   \n",
       "2  The Indira Gandhi Institute of Medical Science...   \n",
       "3  Lashkar-e-Taiba's Kashmir commander Abu Dujana...   \n",
       "4  Hotels in Maharashtra will train their staff t...   \n",
       "\n",
       "                                           headlines  \n",
       "0  Daman & Diu revokes mandatory Rakshabandhan in...  \n",
       "1  Malaika slams user who trolled her for 'divorc...  \n",
       "2  'Virgin' now corrected to 'Unmarried' in IGIMS...  \n",
       "3  Aaj aapne pakad liya: LeT man Dujana before be...  \n",
       "4  Hotel staff to get training to spot signs of s...  "
      ]
     },
     "execution_count": 6,
     "metadata": {},
     "output_type": "execute_result"
    }
   ],
   "source": [
    "df.head()"
   ]
  },
  {
   "cell_type": "markdown",
   "id": "7eb0b7d2-4ae8-4fc8-a779-f9863034ec83",
   "metadata": {},
   "source": [
    "# Defining Functions "
   ]
  },
  {
   "cell_type": "code",
   "execution_count": 7,
   "id": "cadc1968-5a1e-4080-9c64-ac090922138c",
   "metadata": {},
   "outputs": [],
   "source": [
    "class TextSummarizer:\n",
    "    def __init__(self):\n",
    "        self.model_name = \"t5-small\"\n",
    "        self.model = T5ForConditionalGeneration.from_pretrained(self.model_name)\n",
    "        self.tokenizer = T5Tokenizer.from_pretrained(self.model_name)\n",
    "    \n",
    "    def summarize(self, text, max_length=150, min_length=30):\n",
    "        inputs = self.tokenizer.encode(\"summarize: \" + text, return_tensors=\"pt\", max_length=1024, truncation=True)\n",
    "        summary_ids = self.model.generate(inputs, max_length=max_length, min_length=min_length, length_penalty=2.0, num_beams=4, early_stopping=True)\n",
    "        summary = self.tokenizer.decode(summary_ids[0], skip_special_tokens=True)\n",
    "        return summary\n",
    "\n",
    "class CustomDataset(Dataset):\n",
    "    def __init__(self, texts, summaries, tokenizer, max_length=512):\n",
    "        self.texts = texts\n",
    "        self.summaries = summaries\n",
    "        self.tokenizer = tokenizer\n",
    "        self.max_length = max_length\n",
    "    \n",
    "    def __len__(self):\n",
    "        return len(self.texts)\n",
    "    \n",
    "    def __getitem__(self, idx):\n",
    "        text = self.texts[idx]\n",
    "        summary = self.summaries[idx]\n",
    "\n",
    "        inputs = self.tokenizer.encode_plus(\n",
    "            \"summarize: \" + text,\n",
    "            max_length=self.max_length,\n",
    "            padding=\"max_length\",\n",
    "            truncation=True,\n",
    "            return_tensors=\"pt\"\n",
    "        )\n",
    "\n",
    "        labels = self.tokenizer.encode(\n",
    "            summary,\n",
    "            max_length=self.max_length,\n",
    "            padding=\"max_length\",\n",
    "            truncation=True,\n",
    "            return_tensors=\"pt\"\n",
    "        )\n",
    "\n",
    "        return {\n",
    "            \"input_ids\": inputs[\"input_ids\"].flatten(),\n",
    "            \"attention_mask\": inputs[\"attention_mask\"].flatten(),\n",
    "            \"labels\": labels.flatten()\n",
    "        }\n",
    "\n",
    "def train(model, train_loader, optimizer, device, epochs=3):\n",
    "    model.train()\n",
    "    for epoch in range(epochs):\n",
    "        running_loss = 0.0\n",
    "        for batch in train_loader:\n",
    "            input_ids = batch[\"input_ids\"].to(device)\n",
    "            attention_mask = batch[\"attention_mask\"].to(device)\n",
    "            labels = batch[\"labels\"].to(device)\n",
    "\n",
    "            optimizer.zero_grad()\n",
    "\n",
    "            outputs = model(input_ids=input_ids, attention_mask=attention_mask, labels=labels)\n",
    "            loss = outputs.loss\n",
    "            loss.backward()\n",
    "            optimizer.step()\n",
    "\n",
    "            running_loss += loss.item()\n",
    "\n",
    "        print(f\"Epoch {epoch+1}/{epochs}, Loss: {running_loss/len(train_loader)}\")\n"
   ]
  },
  {
   "cell_type": "markdown",
   "id": "cd1fbc20-3eed-4109-91d8-c027e4d97ed6",
   "metadata": {},
   "source": [
    "# Initializing Everthing"
   ]
  },
  {
   "cell_type": "code",
   "execution_count": 8,
   "id": "2d25bd00-9f0c-4ab9-80a6-8a53f6a69707",
   "metadata": {},
   "outputs": [],
   "source": [
    "texts=df['text'].tolist()\n",
    "summaries=df['headlines'].tolist()"
   ]
  },
  {
   "cell_type": "code",
   "execution_count": 9,
   "id": "c0fbec5c-37b6-4f0e-9fe4-553b07d7b7aa",
   "metadata": {},
   "outputs": [
    {
     "name": "stderr",
     "output_type": "stream",
     "text": [
      "You are using the default legacy behaviour of the <class 'transformers.models.t5.tokenization_t5.T5Tokenizer'>. This is expected, and simply means that the `legacy` (previous) behavior will be used so nothing changes for you. If you want to use the new behaviour, set `legacy=False`. This should only be set if you understand what it means, and thoroughly read the reason why this was added as explained in https://github.com/huggingface/transformers/pull/24565\n",
      "Special tokens have been added in the vocabulary, make sure the associated word embeddings are fine-tuned or trained.\n"
     ]
    }
   ],
   "source": [
    "# Initialize tokenizer and model\n",
    "tokenizer = T5Tokenizer.from_pretrained(\"t5-small\")\n",
    "model = T5ForConditionalGeneration.from_pretrained(\"t5-small\")"
   ]
  },
  {
   "cell_type": "code",
   "execution_count": 10,
   "id": "175810e2-d070-42c2-b137-7835382a4da9",
   "metadata": {},
   "outputs": [],
   "source": [
    "# Initialize dataset and dataloader\n",
    "dataset = CustomDataset(texts, summaries, tokenizer)\n",
    "train_loader = DataLoader(dataset, batch_size=2, shuffle=True)"
   ]
  },
  {
   "cell_type": "markdown",
   "id": "df5ef149-d7e9-4e90-97f3-a974e03c5f37",
   "metadata": {},
   "source": [
    "#  Training"
   ]
  },
  {
   "cell_type": "code",
   "execution_count": 11,
   "id": "ed208a60-d7ef-4d93-ac8b-65ba31f6b170",
   "metadata": {},
   "outputs": [
    {
     "name": "stdout",
     "output_type": "stream",
     "text": [
      "Epoch 1/3, Loss: 15.802435684204102\n",
      "Epoch 2/3, Loss: 12.76302890777588\n",
      "Epoch 3/3, Loss: 9.553829669952393\n"
     ]
    }
   ],
   "source": [
    "# Train the model\n",
    "device = torch.device(\"cuda\" if torch.cuda.is_available() else \"cpu\")\n",
    "model.to(device)\n",
    "optimizer = torch.optim.AdamW(model.parameters(), lr=5e-5)\n",
    "train(model, train_loader, optimizer, device)"
   ]
  },
  {
   "cell_type": "markdown",
   "id": "3907211b-ef71-453e-a09e-45d7585ff88a",
   "metadata": {},
   "source": [
    "# Saving Model"
   ]
  },
  {
   "cell_type": "code",
   "execution_count": 12,
   "id": "2561e7da-99ea-48ac-8cc6-0c78f37ae4c6",
   "metadata": {},
   "outputs": [
    {
     "name": "stdout",
     "output_type": "stream",
     "text": [
      "Model saved successfully.\n"
     ]
    }
   ],
   "source": [
    "# Save the trained model\n",
    "save_path = \"./outputs/t5_model\"\n",
    "model.save_pretrained(save_path)\n",
    "tokenizer.save_pretrained(save_path)\n",
    "print(\"Model saved successfully.\")"
   ]
  },
  {
   "cell_type": "markdown",
   "id": "d68448a0-9cc1-45da-86cd-9a6c5ba4ed03",
   "metadata": {},
   "source": [
    "# User Input summarization test"
   ]
  },
  {
   "cell_type": "code",
   "execution_count": 26,
   "id": "a02863ea-3bb7-43ec-ba14-017039e9380d",
   "metadata": {},
   "outputs": [
    {
     "name": "stderr",
     "output_type": "stream",
     "text": [
      "Special tokens have been added in the vocabulary, make sure the associated word embeddings are fine-tuned or trained.\n"
     ]
    },
    {
     "name": "stdout",
     "output_type": "stream",
     "text": [
      "Amidst the vast expanse of the Mariana Trench, scientists have made a monumental breakthrough, uncovering a previously unknown species of deep-sea jellyfish, shedding light on the mysteries of the ocean depths and underscoring the critical need for continued exploration and conservation efforts. This remarkable discovery, occurring at a depth of over 10,000 meters below the ocean surface, represents a significant milestone in marine biology and highlights the resilience and adaptability of life in one of the Earth's most extreme environments.The newly discovered species, tentatively named Mariana Medusa, possesses unique characteristics that set it apart from any known jellyfish species. With its ethereal translucence and delicate tendrils extending gracefully from its bell-shaped body, the Mariana Medusa captivates the imagination and challenges conventional understanding of deep-sea life. Initial observations suggest that this enigmatic creature thrives in the extreme pressures and near-freezing temperatures of the deep ocean, carving out a niche in a habitat largely untouched by human presence.The significance of this discovery extends beyond its scientific value, offering a glimpse into the intricate web of life that exists beneath the ocean's surface. As researchers continue to study the Mariana Medusa and its habitat, they hope to unlock secrets that could inform our understanding of evolutionary biology, ecology, and even biomedical research. Furthermore, the discovery underscores the importance of preserving these pristine marine environments, which are increasingly threatened by human activities such as deep-sea mining, pollution, and climate change.In recent years, technological advancements have enabled scientists to explore the ocean depths with unprecedented precision and detail. From remotely operated vehicles (ROVs) equipped with high-definition cameras to autonomous underwater vehicles (AUVs) capable of mapping vast swaths of the seafloor, these tools have revolutionized our ability to study and document life in the deep sea. However, the Mariana Trench remains one of the least explored and understood ecosystems on the planet, presenting both challenges and opportunities for future research.Despite the inherent difficulties of working in such extreme environments, scientists remain undeterred in their quest to unlock the secrets of the deep. Collaborative efforts involving researchers from around the world are essential to advancing our knowledge of deep-sea ecosystems and informing conservation strategies aimed at protecting these fragile habitats. By combining cutting-edge technology with interdisciplinary approaches, scientists can continue to push the boundaries of exploration and make new discoveries that enrich our understanding of the natural world.As we celebrate this groundbreaking discovery, it serves as a reminder of the boundless wonders that await discovery beneath the ocean's surface. From the hidden depths of the Mariana Trench to the coral reefs teeming with life, the ocean remains a source of fascination and inspiration for scientists and explorers alike. By fostering curiosity, collaboration, and conservation efforts, we can ensure that future generations inherit a world where the mysteries of the deep continue to unfold.\n",
      "\n",
      "Summary: the newly discovered species, tentatively named Mariana Medusa, captivates the imagination and challenges conventional understanding of deep-sea life. despite the inherent difficulties of working in such extreme environments, scientists remain undeterred in their quest to unlock the secrets of the deep.\n"
     ]
    }
   ],
   "source": [
    "# Summarize text\n",
    "summarizer = TextSummarizer()\n",
    "Original_text =\"Amidst the vast expanse of the Mariana Trench, scientists have made a monumental breakthrough, uncovering a previously unknown species of deep-sea jellyfish, shedding light on the mysteries of the ocean depths and underscoring the critical need for continued exploration and conservation efforts. This remarkable discovery, occurring at a depth of over 10,000 meters below the ocean surface, represents a significant milestone in marine biology and highlights the resilience and adaptability of life in one of the Earth's most extreme environments.The newly discovered species, tentatively named Mariana Medusa, possesses unique characteristics that set it apart from any known jellyfish species. With its ethereal translucence and delicate tendrils extending gracefully from its bell-shaped body, the Mariana Medusa captivates the imagination and challenges conventional understanding of deep-sea life. Initial observations suggest that this enigmatic creature thrives in the extreme pressures and near-freezing temperatures of the deep ocean, carving out a niche in a habitat largely untouched by human presence.The significance of this discovery extends beyond its scientific value, offering a glimpse into the intricate web of life that exists beneath the ocean's surface. As researchers continue to study the Mariana Medusa and its habitat, they hope to unlock secrets that could inform our understanding of evolutionary biology, ecology, and even biomedical research. Furthermore, the discovery underscores the importance of preserving these pristine marine environments, which are increasingly threatened by human activities such as deep-sea mining, pollution, and climate change.In recent years, technological advancements have enabled scientists to explore the ocean depths with unprecedented precision and detail. From remotely operated vehicles (ROVs) equipped with high-definition cameras to autonomous underwater vehicles (AUVs) capable of mapping vast swaths of the seafloor, these tools have revolutionized our ability to study and document life in the deep sea. However, the Mariana Trench remains one of the least explored and understood ecosystems on the planet, presenting both challenges and opportunities for future research.Despite the inherent difficulties of working in such extreme environments, scientists remain undeterred in their quest to unlock the secrets of the deep. Collaborative efforts involving researchers from around the world are essential to advancing our knowledge of deep-sea ecosystems and informing conservation strategies aimed at protecting these fragile habitats. By combining cutting-edge technology with interdisciplinary approaches, scientists can continue to push the boundaries of exploration and make new discoveries that enrich our understanding of the natural world.As we celebrate this groundbreaking discovery, it serves as a reminder of the boundless wonders that await discovery beneath the ocean's surface. From the hidden depths of the Mariana Trench to the coral reefs teeming with life, the ocean remains a source of fascination and inspiration for scientists and explorers alike. By fostering curiosity, collaboration, and conservation efforts, we can ensure that future generations inherit a world where the mysteries of the deep continue to unfold.\"\n",
    "\n",
    "summary = summarizer.summarize(Original_text)\n",
    "print(Original_text)\n",
    "print(\"\\nSummary:\", summary)"
   ]
  },
  {
   "cell_type": "markdown",
   "id": "500cc1d6-8b71-4ee9-a6e0-cac260211dfa",
   "metadata": {},
   "source": [
    "# Text Extractive Summarization using TF-IDF"
   ]
  },
  {
   "cell_type": "code",
   "execution_count": 27,
   "id": "b5b5b676-a82f-4795-9473-b28031f76815",
   "metadata": {},
   "outputs": [],
   "source": [
    "from sklearn.feature_extraction.text import TfidfVectorizer\n",
    "from sklearn.metrics.pairwise import cosine_similarity\n",
    "import numpy as np\n",
    "import bs4 as bs\n",
    "import urllib.request\n",
    "import re\n",
    "import nltk"
   ]
  },
  {
   "cell_type": "code",
   "execution_count": 28,
   "id": "fe6b8d95-7a02-41a9-b4b7-403ca80f347e",
   "metadata": {},
   "outputs": [
    {
     "name": "stderr",
     "output_type": "stream",
     "text": [
      "[nltk_data] Downloading package punkt to\n",
      "[nltk_data]     C:\\Users\\ahmed\\AppData\\Roaming\\nltk_data...\n",
      "[nltk_data]   Package punkt is already up-to-date!\n",
      "[nltk_data] Downloading package stopwords to\n",
      "[nltk_data]     C:\\Users\\ahmed\\AppData\\Roaming\\nltk_data...\n",
      "[nltk_data]   Package stopwords is already up-to-date!\n"
     ]
    },
    {
     "data": {
      "text/plain": [
       "True"
      ]
     },
     "execution_count": 28,
     "metadata": {},
     "output_type": "execute_result"
    }
   ],
   "source": [
    "nltk.download('punkt')\n",
    "nltk.download('stopwords')"
   ]
  },
  {
   "cell_type": "code",
   "execution_count": 29,
   "id": "add34808-0ce3-40e8-b806-8a79f53dca66",
   "metadata": {},
   "outputs": [],
   "source": [
    "text=Original_text\n",
    "ext = re.sub(r'\\[\\d+\\]', '', text)\n",
    "\n",
    "# Normalize spaces\n",
    "\n",
    "text = re.sub(r'\\s+', ' ', text).strip()"
   ]
  },
  {
   "cell_type": "code",
   "execution_count": 30,
   "id": "a9a5ee28-76be-4f46-b8c5-8a1ec14301e1",
   "metadata": {},
   "outputs": [],
   "source": [
    "text = re.sub(r'\\s*\\[citation needed\\]\\s*', '', text)\n",
    "text = re.sub(r'\\s+', ' ',text).strip()\n",
    "# Tokenizing sentences\n",
    "\n",
    "sentence_list = nltk.sent_tokenize(text)"
   ]
  },
  {
   "cell_type": "code",
   "execution_count": 31,
   "id": "4e8c7979-1bf5-439f-8c9a-38af9031e043",
   "metadata": {},
   "outputs": [],
   "source": [
    "# Initialize a TfidfVectorizer\n",
    "tfidf_vectorizer = TfidfVectorizer(stop_words = 'english')\n",
    "# Generate the tf-idf vectors for the sentences\n",
    "\n",
    "tfidf_matrix = tfidf_vectorizer.fit_transform(sentence_list)\n",
    "# Calculate the sum of tf-idf scores for each sentence\n",
    "\n",
    "sentence_scores = np.sum(tfidf_matrix.toarray(), axis = 1)\n",
    "# Rank sentences by score\n",
    "\n",
    "top_sentence_indices = np.argsort(sentence_scores)[::-1][:10]\n"
   ]
  },
  {
   "cell_type": "code",
   "execution_count": 35,
   "id": "ebd4ef45-023c-4b97-9964-5708dac1863a",
   "metadata": {},
   "outputs": [
    {
     "name": "stdout",
     "output_type": "stream",
     "text": [
      "Amidst the vast expanse of the Mariana Trench, scientists have made a monumental breakthrough, uncovering a previously unknown species of deep-sea jellyfish, shedding light on the mysteries of the ocean depths and underscoring the critical need for continued exploration and conservation efforts. This remarkable discovery, occurring at a depth of over 10,000 meters below the ocean surface, represents a significant milestone in marine biology and highlights the resilience and adaptability of life in one of the Earth's most extreme environments.The newly discovered species, tentatively named Mariana Medusa, possesses unique characteristics that set it apart from any known jellyfish species. With its ethereal translucence and delicate tendrils extending gracefully from its bell-shaped body, the Mariana Medusa captivates the imagination and challenges conventional understanding of deep-sea life. Initial observations suggest that this enigmatic creature thrives in the extreme pressures and near-freezing temperatures of the deep ocean, carving out a niche in a habitat largely untouched by human presence.The significance of this discovery extends beyond its scientific value, offering a glimpse into the intricate web of life that exists beneath the ocean's surface. As researchers continue to study the Mariana Medusa and its habitat, they hope to unlock secrets that could inform our understanding of evolutionary biology, ecology, and even biomedical research. Furthermore, the discovery underscores the importance of preserving these pristine marine environments, which are increasingly threatened by human activities such as deep-sea mining, pollution, and climate change.In recent years, technological advancements have enabled scientists to explore the ocean depths with unprecedented precision and detail. From remotely operated vehicles (ROVs) equipped with high-definition cameras to autonomous underwater vehicles (AUVs) capable of mapping vast swaths of the seafloor, these tools have revolutionized our ability to study and document life in the deep sea. However, the Mariana Trench remains one of the least explored and understood ecosystems on the planet, presenting both challenges and opportunities for future research.Despite the inherent difficulties of working in such extreme environments, scientists remain undeterred in their quest to unlock the secrets of the deep. Collaborative efforts involving researchers from around the world are essential to advancing our knowledge of deep-sea ecosystems and informing conservation strategies aimed at protecting these fragile habitats. By combining cutting-edge technology with interdisciplinary approaches, scientists can continue to push the boundaries of exploration and make new discoveries that enrich our understanding of the natural world.As we celebrate this groundbreaking discovery, it serves as a reminder of the boundless wonders that await discovery beneath the ocean's surface. From the hidden depths of the Mariana Trench to the coral reefs teeming with life, the ocean remains a source of fascination and inspiration for scientists and explorers alike. By fostering curiosity, collaboration, and conservation efforts, we can ensure that future generations inherit a world where the mysteries of the deep continue to unfold.\n",
      "\n",
      "Summary : This remarkable discovery, occurring at a depth of over 10,000 meters below the ocean surface, represents a significant milestone in marine biology and highlights the resilience and adaptability of life in one of the Earth's most extreme environments.The newly discovered species, tentatively named Mariana Medusa, possesses unique characteristics that set it apart from any known jellyfish species. Initial observations suggest that this enigmatic creature thrives in the extreme pressures and near-freezing temperatures of the deep ocean, carving out a niche in a habitat largely untouched by human presence.The significance of this discovery extends beyond its scientific value, offering a glimpse into the intricate web of life that exists beneath the ocean's surface. By combining cutting-edge technology with interdisciplinary approaches, scientists can continue to push the boundaries of exploration and make new discoveries that enrich our understanding of the natural world.As we celebrate this groundbreaking discovery, it serves as a reminder of the boundless wonders that await discovery beneath the ocean's surface.\n"
     ]
    }
   ],
   "source": [
    "# Extract top sentences in order\n",
    "summary_sentences = [sentence_list[idx] for idx in top_sentence_indices[:3]]\n",
    "# Joining the selected sentences\n",
    "s = ' '.join(summary_sentences)\n",
    "print(Original_text)\n",
    "print(\"\\nSummary :\",s)"
   ]
  }
 ],
 "metadata": {
  "kernelspec": {
   "display_name": "Python 3 (ipykernel)",
   "language": "python",
   "name": "python3"
  },
  "language_info": {
   "codemirror_mode": {
    "name": "ipython",
    "version": 3
   },
   "file_extension": ".py",
   "mimetype": "text/x-python",
   "name": "python",
   "nbconvert_exporter": "python",
   "pygments_lexer": "ipython3",
   "version": "3.11.8"
  }
 },
 "nbformat": 4,
 "nbformat_minor": 5
}
